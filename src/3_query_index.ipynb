{
 "cells": [
  {
   "cell_type": "markdown",
   "metadata": {},
   "source": [
    "#### Search"
   ]
  },
  {
   "cell_type": "code",
   "execution_count": 1,
   "metadata": {},
   "outputs": [
    {
     "name": "stdout",
     "output_type": "stream",
     "text": [
      "Note: you may need to restart the kernel to use updated packages.\n"
     ]
    }
   ],
   "source": [
    "%pip install -q azure-search-documents python-dotenv"
   ]
  },
  {
   "cell_type": "code",
   "execution_count": 2,
   "metadata": {},
   "outputs": [
    {
     "name": "stdout",
     "output_type": "stream",
     "text": [
      "endpoint: https://ps-hotels.search.windows.net/\n",
      "index_name: hotel-reviews-index\n"
     ]
    }
   ],
   "source": [
    "from azure.core.credentials import AzureKeyCredential\n",
    "from azure.search.documents.indexes import SearchIndexClient\n",
    "from azure.search.documents import SearchClient\n",
    "\n",
    "import os\n",
    "from dotenv import load_dotenv\n",
    "\n",
    "load_dotenv(\"../.env\")\n",
    "\n",
    "# Azure Search service details\n",
    "service_name = os.getenv(\"SERVICE_NAME\")\n",
    "admin_key = os.getenv(\"SEARCH_ADMIN_KEY\")\n",
    "index_name = os.getenv(\"SEARCH_INDEX_NAME\")\n",
    "\n",
    "# Initialize the search index client\n",
    "endpoint = f\"https://{service_name}.search.windows.net/\"\n",
    "credential = AzureKeyCredential(admin_key)\n",
    "index_client = SearchIndexClient(endpoint=endpoint, credential=credential)\n",
    "search_client = SearchClient(endpoint=endpoint, index_name=index_name, credential=credential)\n",
    "\n",
    "print(f\"endpoint: {endpoint}\")\n",
    "print(f\"index_name: {index_name}\")"
   ]
  },
  {
   "cell_type": "code",
   "execution_count": 3,
   "metadata": {},
   "outputs": [],
   "source": [
    "from openai import OpenAI\n",
    "\n",
    "openai_client = OpenAI()\n",
    "\n",
    "def embed_query(query: str) -> list:\n",
    "    response = openai_client.embeddings.create(\n",
    "        input=query, model=\"text-embedding-3-small\"\n",
    "    )\n",
    "    return response.data[0].embedding"
   ]
  },
  {
   "cell_type": "code",
   "execution_count": 4,
   "metadata": {},
   "outputs": [],
   "source": [
    "from azure.search.documents.models import VectorizedQuery\n",
    "\n",
    "def full_text_search(query, top=5):\n",
    "    \"\"\"Perform a full-text search.\"\"\"\n",
    "    results = search_client.search(search_text=query, top=top)\n",
    "    return list(results)\n",
    "\n",
    "def vector_search(query):\n",
    "    embedded_query = embed_query(query)\n",
    "    vector_query = VectorizedQuery(vector=embedded_query, k_nearest_neighbors=3, fields=\"embedding\")\n",
    "  \n",
    "    results = search_client.search(  \n",
    "        search_text=None,  \n",
    "        vector_queries= [vector_query],\n",
    "        select=[\"hotel_name\", \"review_text\", \"review_title\", \"city\"],\n",
    "    )  \n",
    "    return list(results)\n",
    "\n",
    "def hybrid_search(query, top=5):\n",
    "    \"\"\"Perform a hybrid search (combination of full-text and vector search).\"\"\"\n",
    "    embedded_query = embed_query(query)\n",
    "    vector_query = VectorizedQuery(vector=embedded_query, k_nearest_neighbors=3, fields=\"embedding\")\n",
    "    results = search_client.search(\n",
    "        search_text=query,\n",
    "        vector_queries=[vector_query],\n",
    "        select=[\"id\", \"review_text\", \"review_title\", \"hotel_name\", \"city\"],\n",
    "        top=top,\n",
    "    )\n",
    "    return list(results)\n",
    "\n",
    "def print_results(results):\n",
    "    for result in results:\n",
    "        print(f\"Hotel Name: {result['hotel_name']}\")\n",
    "        print(f\"City: {result['city']}\")\n",
    "        print(f\"Score: {result['@search.score']}\")\n",
    "        print(f\"Review Title: {result['review_title']}\")\n",
    "        print(f\"Review: {result['review_text']}\")\n",
    "        print(\"\\n\")"
   ]
  },
  {
   "cell_type": "code",
   "execution_count": 7,
   "metadata": {},
   "outputs": [
    {
     "name": "stdout",
     "output_type": "stream",
     "text": [
      "Hotel Name: The Charlesmark Hotel\n",
      "City: Boston\n",
      "Score: 0.03333333507180214\n",
      "Review Title: Convenient location in the city centre walkable to most...\n",
      "Review: Bad: Nothing. Good: Convenient location in the city centre walkable to most attractions\n",
      "\n",
      "\n",
      "Hotel Name: The Charlesmark Hotel\n",
      "City: Boston\n",
      "Score: 0.016393441706895828\n",
      "Review Title: Pleasantly surprised\n",
      "Review: Bad: Closest parking was a 4-5 minute walk away for 28 overnight. Closer parking is available for 48 overnight. Good: Great neighborhood on Boylston and a block from Newbury St. Plenty of restaurants and bars within walking distance to choose from. It is one of the better values compared to other hotels in Boston. Half a block from the Copley T station if you want to get to another part of the city. 15- 20 minute walk to Fenway Park for the Sox game.\n",
      "\n",
      "\n",
      "Hotel Name: The Charlesmark Hotel\n",
      "City: Boston\n",
      "Score: 0.016393441706895828\n",
      "Review Title: Excellent location in city centre\n",
      "Review: Bad: Nothing. Good: Convenient location in the city centre walkable to most attractions\n",
      "\n",
      "\n",
      "Hotel Name: The Westin Las Vegas Hotel & Spa\n",
      "City: Las Vegas\n",
      "Score: 0.016129031777381897\n",
      "Review Title: Clean, comfortable and easy to walk to the sights.\n",
      "Review: Bad: Service was not all it could be especially on check in. Good: Clean, comfortable and easy to walk to the sights.\n",
      "\n",
      "\n",
      "Hotel Name: dana hotel and spa\n",
      "City: Chicago\n",
      "Score: 0.016129031777381897\n",
      "Review Title: Great value, wonderfully walkable location, polite staff, restaurant beyond excellent.\n",
      "Review: Bad: Worst bartender ever. Long Island Iced Tea missing a few ingredients, King Alphonse was actually a Kahlua and cream with ice. Ugh. In-room coffee machine didn't work, took two days to get fixed, and then made awful coffee. Morning coffee from the restaurant was undrinkable. Thankfully, Starbucks nearby. Good: Best restaurant for dinner of any hotel anywhere. Entrees superb, bread pudding beyond superb. Excellent security staff -- Cheerfully and efficiently retrieved my forgotten keyboard, assured me it was safe, and FedExed it to me no charge. Decor stylish, cozy room made clever use of small space, room clean, rain shower nice. Non-convention type hotel very appealing. Really great value in accessible walkable location.\n",
      "\n",
      "\n"
     ]
    }
   ],
   "source": [
    "query = \"walkable\"\n",
    "results = hybrid_search(query)\n",
    "\n",
    "print_results(results)\n"
   ]
  },
  {
   "cell_type": "markdown",
   "metadata": {},
   "source": [
    "#### Summarize Using OpenAI"
   ]
  },
  {
   "cell_type": "code",
   "execution_count": 9,
   "metadata": {},
   "outputs": [
    {
     "name": "stdout",
     "output_type": "stream",
     "text": [
      "{\n",
      "  \"summary\": \"The search results highlight various hotels in walkable locations, particularly in Boston, renowned for their convenient access to nearby attractions, restaurants, and public transport. Reviewers appreciate the walkability and overall value of these hotels, with specific mentions of the Charlesmark Hotel in Boston and its proximity to key city sites. Additionally, a hotel in Las Vegas and one in Chicago are noted for their ease of accessibility to local sights, enhancing the travel experience.\",\n",
      "  \"results\": [\n",
      "    {\n",
      "      \"city\": \"Boston\",\n",
      "      \"id\": \"d0d8d2c6-9065-48cc-b2a9-d24954d112b6\",\n",
      "      \"review_title\": \"Convenient location in the city centre walkable to most...\",\n",
      "      \"hotel_name\": \"The Charlesmark Hotel\",\n",
      "      \"review_text\": \"Bad: Nothing. Good: Convenient location in the city centre walkable to most attractions\"\n",
      "    },\n",
      "    {\n",
      "      \"city\": \"Boston\",\n",
      "      \"id\": \"89e11344-43dd-44d7-a990-bf1b642c4fa0\",\n",
      "      \"review_title\": \"Pleasantly surprised\",\n",
      "      \"hotel_name\": \"The Charlesmark Hotel\",\n",
      "      \"review_text\": \"Bad: Closest parking was a 4-5 minute walk away for 28 overnight. Closer parking is available for 48 overnight. Good: Great neighborhood on Boylston and a block from Newbury St. Plenty of restaurants and bars within walking distance to choose from.\"\n",
      "    },\n",
      "    {\n",
      "      \"city\": \"Boston\",\n",
      "      \"id\": \"a40f73e3-de47-4168-ad98-52629f1f0794\",\n",
      "      \"review_title\": \"Excellent location in city centre\",\n",
      "      \"hotel_name\": \"The Charlesmark Hotel\",\n",
      "      \"review_text\": \"Bad: Nothing. Good: Convenient location in the city centre walkable to most attractions\"\n",
      "    },\n",
      "    {\n",
      "      \"city\": \"Las Vegas\",\n",
      "      \"id\": \"0b540d55-49b4-4e75-9d84-a6509492c499\",\n",
      "      \"review_title\": \"Clean, comfortable and easy to walk to the sights.\",\n",
      "      \"hotel_name\": \"The Westin Las Vegas Hotel & Spa\",\n",
      "      \"review_text\": \"Bad: Service was not all it could be especially on check in. Good: Clean, comfortable and easy to walk to the sights.\"\n",
      "    },\n",
      "    {\n",
      "      \"city\": \"Chicago\",\n",
      "      \"id\": \"bec73f8b-5c25-4626-84e6-aabf38cc4f6d\",\n",
      "      \"review_title\": \"Great value, wonderfully walkable location, polite staff, restaurant beyond excellent.\",\n",
      "      \"hotel_name\": \"dana hotel and spa\",\n",
      "      \"review_text\": \"Bad: Worst bartender ever. Good: Best restaurant for dinner of any hotel anywhere. Excellent security staff making retrieval of forgotten items easy.\"\n",
      "    }\n",
      "  ]\n",
      "}\n"
     ]
    }
   ],
   "source": [
    "from openai import OpenAI\n",
    "import json\n",
    "\n",
    "client = OpenAI()\n",
    "\n",
    "SYSTEM_MESSAGE = \"You are a helpful assistant.\"\n",
    "\n",
    "USER_QUERY = query\n",
    "SEARCH_RESULTS = results\n",
    "\n",
    "USER_MESSAGE = f\"\"\"\n",
    "  You are provided a user query, and the search results based on user query. You task is to summarize the results and put the best order for the results. \n",
    "\n",
    "USER_QUERY\n",
    "```\n",
    "{USER_QUERY}\n",
    "```\n",
    "\n",
    "SEARCH_RESULTS\n",
    "```\n",
    "{SEARCH_RESULTS}\n",
    "```\n",
    "\n",
    "Return a valid JSON with the following information\n",
    "\n",
    "RESULT_SCHEMA\n",
    "```\n",
    "{{\n",
    "  'summary': '',\n",
    "  'results': []\n",
    "}}\n",
    "```\n",
    "\"\"\"\n",
    "\n",
    "\n",
    "response = client.chat.completions.create(\n",
    "    model=\"gpt-4o-mini\",\n",
    "    messages=[\n",
    "        {\"role\": \"system\", \"content\": SYSTEM_MESSAGE},\n",
    "        {\"role\": \"user\", \"content\": USER_MESSAGE},\n",
    "    ],\n",
    "    response_format={\"type\": \"json_object\"},\n",
    ")\n",
    "\n",
    "response = json.loads(response.choices[0].message.content) \n",
    "print(json.dumps(response, indent=2))"
   ]
  }
 ],
 "metadata": {
  "kernelspec": {
   "display_name": "azure-ai-search",
   "language": "python",
   "name": "python3"
  },
  "language_info": {
   "codemirror_mode": {
    "name": "ipython",
    "version": 3
   },
   "file_extension": ".py",
   "mimetype": "text/x-python",
   "name": "python",
   "nbconvert_exporter": "python",
   "pygments_lexer": "ipython3",
   "version": "3.12.4"
  }
 },
 "nbformat": 4,
 "nbformat_minor": 2
}
