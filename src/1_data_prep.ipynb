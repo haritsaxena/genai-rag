{
 "cells": [
  {
   "cell_type": "markdown",
   "metadata": {},
   "source": [
    "##### Step 1: Convert CSV to JSON Files"
   ]
  },
  {
   "cell_type": "code",
   "execution_count": null,
   "metadata": {},
   "outputs": [],
   "source": [
    "import csv\n",
    "import json\n",
    "import uuid\n",
    "import os\n",
    "\n",
    "raw_reviews_file = \"../data/raw/hotel_reviews_1000.csv\"\n",
    "transformed_dir = \"../data/transformed\"\n",
    "\n",
    "raw_reviews = open(raw_reviews_file, \"r\").readlines()\n",
    "\n",
    "if not os.path.exists(transformed_dir):\n",
    "    os.makedirs(transformed_dir)\n",
    "\n",
    "def process_reviews(file_path):\n",
    "    with open(file_path, 'r', newline='', encoding='utf-8') as csvfile:\n",
    "        # Read the first line to get the header\n",
    "        header = next(csv.reader(csvfile))\n",
    "        \n",
    "        # Create a mapping of expected column names to actual column names\n",
    "        column_mapping = {\n",
    "            'dateAdded': 'dateAdded',\n",
    "            'city': 'city',\n",
    "            'hotel_name': 'name',\n",
    "            'hotel_state': 'province',\n",
    "            'review_text': 'reviews.text',\n",
    "            'review_title': 'reviews.title'\n",
    "        }\n",
    "        \n",
    "        # Find the index of each required column\n",
    "        column_indices = {}\n",
    "        for expected_name, actual_name in column_mapping.items():\n",
    "            try:\n",
    "                column_indices[expected_name] = header.index(actual_name)\n",
    "            except ValueError:\n",
    "                print(f\"Warning: Column '{actual_name}' not found in the CSV. Some data may be missing.\")\n",
    "        \n",
    "        # Reset file pointer to the beginning\n",
    "        csvfile.seek(0)\n",
    "        \n",
    "        # Skip the header row\n",
    "        next(csvfile)\n",
    "        \n",
    "        # Use csv.reader instead of DictReader\n",
    "        reader = csv.reader(csvfile)\n",
    "        \n",
    "        for i, row in enumerate(reader, start=1):\n",
    "            review_json = {}\n",
    "            for key, index in column_indices.items():\n",
    "                if index < len(row):\n",
    "                    review_json[key] = row[index]\n",
    "                else:\n",
    "                    review_json[key] = \"\"  # or None, depending on your preference\n",
    "            \n",
    "            # Generate a unique identifier\n",
    "            review_json['id'] = str(uuid.uuid4())\n",
    "            \n",
    "            # print(json.dumps(review_json, indent=2))\n",
    "            print(f\"processed record [{i}] with id [{review_json['id']}]\")\n",
    "\n",
    "            with open(f\"{transformed_dir}/review_{i}.json\", \"w+\") as f:\n",
    "                json.dump(review_json, f, indent=2)\n",
    "            \n",
    "process_reviews(raw_reviews_file)"
   ]
  },
  {
   "cell_type": "markdown",
   "metadata": {},
   "source": [
    "#### Step 2: Create Embeddings for each of the JSON Files"
   ]
  },
  {
   "cell_type": "code",
   "execution_count": null,
   "metadata": {},
   "outputs": [],
   "source": [
    "%pip install -q python-dotenv openai"
   ]
  },
  {
   "cell_type": "code",
   "execution_count": null,
   "metadata": {},
   "outputs": [],
   "source": [
    "from dotenv import load_dotenv\n",
    "from openai import OpenAI\n",
    "\n",
    "load_dotenv()\n",
    "\n",
    "# print(os.getenv(\"OPENAI_API_KEY\"))\n",
    "\n",
    "client = OpenAI()\n",
    "\n",
    "response = client.embeddings.create(\n",
    "    input=\"Hello World!\",\n",
    "    model=\"text-embedding-3-small\"\n",
    ")\n",
    "\n",
    "print(len(response.data[0].embedding))\n",
    "print(response.data[0].embedding)"
   ]
  },
  {
   "cell_type": "code",
   "execution_count": 5,
   "metadata": {},
   "outputs": [],
   "source": [
    "import os\n",
    "import json\n",
    "\n",
    "transformed_dir = \"../data/transformed\"\n",
    "embedded_dir = \"../data/embedded\"\n",
    "\n",
    "if not os.path.exists(embedded_dir):\n",
    "    os.makedirs(embedded_dir)\n",
    "    \n",
    "def prepare_embedding_str(review_json):\n",
    "    return f\"REVIEW_TITLE: {review_json['review_title']} REVIEW_TEXT: {review_json['review_text']} HOTEL_NAME: {review_json['hotel_name']} HOTEL_CITY: {review_json['city']} HOTEL_STATE: {review_json['hotel_state']}\"\n",
    "    \n",
    "client = OpenAI()\n",
    "for file in os.listdir(transformed_dir):\n",
    "    with open(f\"{transformed_dir}/{file}\", \"r\") as f:\n",
    "        review = json.load(f)\n",
    "        embedding_str = prepare_embedding_str(review)\n",
    "        \n",
    "        response = client.embeddings.create(\n",
    "            input=embedding_str,\n",
    "            model=\"text-embedding-3-small\"\n",
    "        )\n",
    "        \n",
    "        review['embedding'] = response.data[0].embedding\n",
    "        \n",
    "        with open(f\"{embedded_dir}/{file}\", \"w\") as f:\n",
    "            json.dump(review, f, indent=2)"
   ]
  }
 ],
 "metadata": {
  "kernelspec": {
   "display_name": "azure-ai-search",
   "language": "python",
   "name": "python3"
  },
  "language_info": {
   "codemirror_mode": {
    "name": "ipython",
    "version": 3
   },
   "file_extension": ".py",
   "mimetype": "text/x-python",
   "name": "python",
   "nbconvert_exporter": "python",
   "pygments_lexer": "ipython3",
   "version": "3.12.4"
  }
 },
 "nbformat": 4,
 "nbformat_minor": 2
}
